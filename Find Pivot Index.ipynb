{
 "cells": [
  {
   "cell_type": "code",
   "execution_count": 1,
   "id": "5e64496c",
   "metadata": {},
   "outputs": [],
   "source": [
    "class Solution:\n",
    "    def pivotIndex(self, nums: list[int]) -> int:\n",
    "        # Loop through each index and value in the input list\n",
    "        for index,i in enumerate(nums):\n",
    "            # Split the input list into left and right parts at the current index\n",
    "            left = nums[:index]\n",
    "            right = nums[index+1:]\n",
    "            \n",
    "            # Check if the sum of the left part multiplied by 2 plus the current value equals the sum of the whole list\n",
    "            if sum(left)*2 + i == sum(nums):\n",
    "                return index # Return the current index as the pivot index if the condition is satisfied\n",
    "        \n",
    "        return -1 # Return -1 if no pivot index is found"
   ]
  },
  {
   "cell_type": "code",
   "execution_count": 2,
   "id": "db3bea09",
   "metadata": {},
   "outputs": [],
   "source": [
    "my_solution=Solution()"
   ]
  },
  {
   "cell_type": "code",
   "execution_count": 3,
   "id": "427a94fa",
   "metadata": {},
   "outputs": [],
   "source": [
    "nums = [1,7,3,6,5,6]"
   ]
  },
  {
   "cell_type": "code",
   "execution_count": 4,
   "id": "906b716d",
   "metadata": {},
   "outputs": [],
   "source": [
    "result=my_solution.pivotIndex(nums)"
   ]
  },
  {
   "cell_type": "code",
   "execution_count": 5,
   "id": "7962b167",
   "metadata": {},
   "outputs": [
    {
     "name": "stdout",
     "output_type": "stream",
     "text": [
      "3\n"
     ]
    }
   ],
   "source": [
    "print(result)"
   ]
  },
  {
   "cell_type": "code",
   "execution_count": null,
   "id": "34fba1b5",
   "metadata": {},
   "outputs": [],
   "source": []
  }
 ],
 "metadata": {
  "kernelspec": {
   "display_name": "Python 3 (ipykernel)",
   "language": "python",
   "name": "python3"
  },
  "language_info": {
   "codemirror_mode": {
    "name": "ipython",
    "version": 3
   },
   "file_extension": ".py",
   "mimetype": "text/x-python",
   "name": "python",
   "nbconvert_exporter": "python",
   "pygments_lexer": "ipython3",
   "version": "3.10.9"
  }
 },
 "nbformat": 4,
 "nbformat_minor": 5
}
