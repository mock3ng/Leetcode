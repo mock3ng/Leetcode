{
 "cells": [
  {
   "cell_type": "code",
   "execution_count": null,
   "id": "bfb6a3e3",
   "metadata": {},
   "outputs": [],
   "source": [
    "class MyQueue:\n",
    "\n",
    "    def __init__(self):\n",
    "        self.elements=[]\n",
    "\n",
    "    def push(self, x: int) -> None:\n",
    "        self.elements.append(x)\n",
    "\n",
    "    def pop(self) -> int:\n",
    "        pop_element=self.elements.pop(0)\n",
    "        return pop_element\n",
    "\n",
    "    def peek(self) -> int:\n",
    "        return self.elements[0]\n",
    "\n",
    "    def empty(self) -> bool:\n",
    "        return self.elements==[]\n",
    "\n",
    "\n",
    "# Your MyQueue object will be instantiated and called as such:\n",
    "# obj = MyQueue()\n",
    "# obj.push(x)\n",
    "# param_2 = obj.pop()\n",
    "# param_3 = obj.peek()\n",
    "# param_4 = obj.empty()"
   ]
  },
  {
   "cell_type": "markdown",
   "id": "651ad3f4",
   "metadata": {},
   "source": [
    "This is the implementation of a Queue data structure using a list in Python. Here is the explanation of each method:\n",
    "\n",
    "__init__(self): This is the constructor of the class. It initializes an empty list to store the elements of the queue.\n",
    "\n",
    "push(self, x: int) -> None: This method takes an integer value x as input and adds it to the end of the list.\n",
    "\n",
    "pop(self) -> int: This method removes and returns the first element of the list.\n",
    "\n",
    "peek(self) -> int: This method returns the first element of the list without removing it.\n",
    "\n",
    "empty(self) -> bool: This method returns a boolean value indicating whether the queue is empty or not. It returns True if the list is empty, otherwise False.\n",
    "\n",
    "The last part of the code is just an example of how to create an object of the class, call its methods and store the return values in variables."
   ]
  },
  {
   "cell_type": "code",
   "execution_count": null,
   "id": "dcaecfcc",
   "metadata": {},
   "outputs": [],
   "source": []
  }
 ],
 "metadata": {
  "kernelspec": {
   "display_name": "Python 3 (ipykernel)",
   "language": "python",
   "name": "python3"
  },
  "language_info": {
   "codemirror_mode": {
    "name": "ipython",
    "version": 3
   },
   "file_extension": ".py",
   "mimetype": "text/x-python",
   "name": "python",
   "nbconvert_exporter": "python",
   "pygments_lexer": "ipython3",
   "version": "3.10.9"
  }
 },
 "nbformat": 4,
 "nbformat_minor": 5
}
