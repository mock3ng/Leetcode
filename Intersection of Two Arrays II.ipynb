{
 "cells": [
  {
   "cell_type": "code",
   "execution_count": 5,
   "id": "5139dcd3",
   "metadata": {},
   "outputs": [],
   "source": [
    "class Solution:\n",
    "    def intersect(self, nums1: list[int], nums2: list[int]) -> list[int]:\n",
    "        # Convert the input lists to sets\n",
    "        set1 = set(nums1)\n",
    "        set2 = set(nums2)\n",
    "        # Find the intersection of the two sets\n",
    "        intersection = set1.intersection(set2)\n",
    "        # Convert the intersection set to a list and print it\n",
    "        print(list(intersection))\n"
   ]
  },
  {
   "cell_type": "markdown",
   "id": "1aebb04b",
   "metadata": {},
   "source": [
    "The function intersect takes two lists of integers as input parameters.\n",
    "The two input lists are converted to sets using the set() function and assigned to set1 and set2 variables.\n",
    "The intersection() method is used to find the common elements between the two sets and assigned to the intersection variable.\n",
    "The intersection set is then converted to a list using the list() function and printed to the console."
   ]
  },
  {
   "cell_type": "code",
   "execution_count": 6,
   "id": "ea295b6d",
   "metadata": {},
   "outputs": [],
   "source": [
    "nums1 = [1, 2, 2, 1]\n",
    "nums2 = [2, 2]"
   ]
  },
  {
   "cell_type": "code",
   "execution_count": 7,
   "id": "b9262b18",
   "metadata": {},
   "outputs": [],
   "source": [
    "my_solution=Solution()"
   ]
  },
  {
   "cell_type": "code",
   "execution_count": 8,
   "id": "f430eb63",
   "metadata": {},
   "outputs": [
    {
     "name": "stdout",
     "output_type": "stream",
     "text": [
      "[2]\n"
     ]
    }
   ],
   "source": [
    "my_solution.intersect(nums1,nums2)"
   ]
  },
  {
   "cell_type": "code",
   "execution_count": null,
   "id": "9b25f300",
   "metadata": {},
   "outputs": [],
   "source": []
  },
  {
   "cell_type": "code",
   "execution_count": null,
   "id": "9a7bbedf",
   "metadata": {},
   "outputs": [],
   "source": []
  }
 ],
 "metadata": {
  "kernelspec": {
   "display_name": "Python 3 (ipykernel)",
   "language": "python",
   "name": "python3"
  },
  "language_info": {
   "codemirror_mode": {
    "name": "ipython",
    "version": 3
   },
   "file_extension": ".py",
   "mimetype": "text/x-python",
   "name": "python",
   "nbconvert_exporter": "python",
   "pygments_lexer": "ipython3",
   "version": "3.10.9"
  }
 },
 "nbformat": 4,
 "nbformat_minor": 5
}
