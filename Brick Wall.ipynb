{
 "cells": [
  {
   "cell_type": "code",
   "execution_count": 1,
   "id": "14639304",
   "metadata": {},
   "outputs": [],
   "source": [
    "class Solution:\n",
    "    def leastBricks(self, wall: list[list[int]]) -> int:\n",
    "        # create a dictionary to keep track of the gaps in the wall\n",
    "        # initialize it with 0 to account for the leftmost edge\n",
    "        myhash = {0: 0}\n",
    "        for row in wall:\n",
    "            gapindex = 0\n",
    "            # iterate over the bricks in the current row, ignoring the last one\n",
    "            for brick in row[:-1]:\n",
    "                # update the current gap index\n",
    "                gapindex += brick\n",
    "                # increment the count of bricks that cross this gap\n",
    "                myhash[gapindex] = 1 + myhash.get(gapindex, 0)\n",
    "        # the answer is the number of rows in the wall minus the maximum count of bricks that cross a gap\n",
    "        return len(wall) - max(myhash.values())\n"
   ]
  },
  {
   "cell_type": "markdown",
   "id": "9b947b52",
   "metadata": {},
   "source": [
    "The function leastBricks takes a list of lists wall as input, where each inner list represents a row of bricks in a wall. The function returns an integer which represents the minimum number of bricks that need to be cut in order to make the wall such that no vertical line crosses through the wall.\n",
    "\n",
    "The algorithm works by iterating over each row in the wall and keeping track of the gaps between bricks. The hash table myhash is used to store the number of times a particular gap index is encountered while iterating through the rows of the wall. If a gap index is encountered more than once, it means that a vertical line can be drawn through that gap, and hence a brick needs to be cut at that index.\n",
    "\n",
    "Finally, the function returns the difference between the total number of rows in the wall and the maximum value in the myhash dictionary. This represents the minimum number of bricks that need to be cut to make the wall such that no vertical line crosses through it."
   ]
  },
  {
   "cell_type": "code",
   "execution_count": 3,
   "id": "25700fed",
   "metadata": {},
   "outputs": [],
   "source": [
    "my_solution=Solution()"
   ]
  },
  {
   "cell_type": "code",
   "execution_count": 4,
   "id": "ab164858",
   "metadata": {},
   "outputs": [],
   "source": [
    "wall = [[1,2,2,1],[3,1,2],[1,3,2],[2,4],[3,1,2],[1,3,1,1]]"
   ]
  },
  {
   "cell_type": "code",
   "execution_count": 5,
   "id": "64f41d74",
   "metadata": {},
   "outputs": [],
   "source": [
    "result=my_solution.leastBricks(wall)"
   ]
  },
  {
   "cell_type": "code",
   "execution_count": 6,
   "id": "127dac8c",
   "metadata": {},
   "outputs": [
    {
     "name": "stdout",
     "output_type": "stream",
     "text": [
      "2\n"
     ]
    }
   ],
   "source": [
    "print(result)"
   ]
  },
  {
   "cell_type": "code",
   "execution_count": null,
   "id": "e659361c",
   "metadata": {},
   "outputs": [],
   "source": []
  }
 ],
 "metadata": {
  "kernelspec": {
   "display_name": "Python 3 (ipykernel)",
   "language": "python",
   "name": "python3"
  },
  "language_info": {
   "codemirror_mode": {
    "name": "ipython",
    "version": 3
   },
   "file_extension": ".py",
   "mimetype": "text/x-python",
   "name": "python",
   "nbconvert_exporter": "python",
   "pygments_lexer": "ipython3",
   "version": "3.10.9"
  }
 },
 "nbformat": 4,
 "nbformat_minor": 5
}
