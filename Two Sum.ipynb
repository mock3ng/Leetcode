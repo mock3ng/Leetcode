{
 "cells": [
  {
   "cell_type": "code",
   "execution_count": 2,
   "id": "2d279ba5",
   "metadata": {},
   "outputs": [],
   "source": [
    "class Solution:\n",
    "    def twoSum(self, nums: list[int], target: int) -> list[int]:\n",
    "        myhash={}\n",
    "        for ix,num in enumerate(nums):\n",
    "            diff= target-num\n",
    "            if diff in myhash:\n",
    "                return [myhash[diff],ix]\n",
    "            myhash[num]=ix"
   ]
  },
  {
   "cell_type": "markdown",
   "id": "fb8a035b",
   "metadata": {},
   "source": [
    "This code defines a class Solution with a method twoSum, which takes a list of integers nums and an integer target as input, and returns a list of two integers representing the indices of the two numbers in nums whose sum is equal to the target.\n",
    "\n",
    "The code initializes an empty dictionary myhash, and then iterates over the list nums using enumerate. For each number num in nums, the code calculates the difference between the target and num and stores it in the variable diff.\n",
    "\n",
    "If diff is already in the dictionary myhash, then the code has found the pair of numbers whose sum is equal to target, and it returns a list of their indices, which are stored in myhash[diff] and ix.\n",
    "\n",
    "If diff is not in the dictionary, the code adds num to the dictionary with its index as the value.\n",
    "\n",
    "At the end of the loop, if no pair of numbers was found, the method returns None."
   ]
  },
  {
   "cell_type": "code",
   "execution_count": 3,
   "id": "c5b2724f",
   "metadata": {},
   "outputs": [],
   "source": [
    "nums = [2,7,11,15]\n",
    "target = 9"
   ]
  },
  {
   "cell_type": "code",
   "execution_count": 4,
   "id": "22e2f75f",
   "metadata": {},
   "outputs": [],
   "source": [
    "my_solution=Solution()"
   ]
  },
  {
   "cell_type": "code",
   "execution_count": 5,
   "id": "923cbb92",
   "metadata": {},
   "outputs": [],
   "source": [
    "result=my_solution.twoSum(nums,target)"
   ]
  },
  {
   "cell_type": "code",
   "execution_count": 6,
   "id": "73d46670",
   "metadata": {},
   "outputs": [
    {
     "name": "stdout",
     "output_type": "stream",
     "text": [
      "[0, 1]\n"
     ]
    }
   ],
   "source": [
    "print(result)"
   ]
  },
  {
   "cell_type": "code",
   "execution_count": null,
   "id": "46cb2e77",
   "metadata": {},
   "outputs": [],
   "source": []
  }
 ],
 "metadata": {
  "kernelspec": {
   "display_name": "Python 3 (ipykernel)",
   "language": "python",
   "name": "python3"
  },
  "language_info": {
   "codemirror_mode": {
    "name": "ipython",
    "version": 3
   },
   "file_extension": ".py",
   "mimetype": "text/x-python",
   "name": "python",
   "nbconvert_exporter": "python",
   "pygments_lexer": "ipython3",
   "version": "3.10.9"
  }
 },
 "nbformat": 4,
 "nbformat_minor": 5
}
