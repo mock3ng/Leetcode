{
 "cells": [
  {
   "cell_type": "code",
   "execution_count": 2,
   "id": "f45219b9",
   "metadata": {},
   "outputs": [],
   "source": [
    "import heapq\n",
    "class Solution:\n",
    "    def kClosest(self, points: list[list[int]], k: int) -> list[list[int]]:\n",
    "        minheap=[]\n",
    "        for x,y in points:\n",
    "            distance=(x**2)+(y**2)\n",
    "            minheap.append([distance,x,y])\n",
    "        heapq.heapify(minheap)\n",
    "        result=[]\n",
    "        while k>0:\n",
    "            distance,x,y=heapq.heappop(minheap)\n",
    "            result.append([x,y])\n",
    "            k-=1\n",
    "        return result"
   ]
  },
  {
   "cell_type": "markdown",
   "id": "3df21f3e",
   "metadata": {},
   "source": [
    "This code defines a class Solution that contains a method kClosest which takes in a list of points and an integer k as inputs, and returns the k closest points to the origin.\n",
    "\n",
    "The method first initializes an empty list called minheap. It then iterates over the input list of points and calculates the Euclidean distance from the origin to each point. These distances along with the x and y coordinates of the points are then stored in a list and appended to minheap.\n",
    "\n",
    "The heapify() method from the heapq module is then used to convert the minheap list into a min-heap data structure.\n",
    "\n",
    "Next, the method initializes an empty list called result. It then repeatedly extracts the smallest element (i.e. the point with the smallest Euclidean distance) from the min-heap using the heappop() method, and appends the x and y coordinates of this point to result. This is done k times, since we only want to return the k closest points.\n",
    "\n",
    "Finally, the result list is returned as the output of the method."
   ]
  },
  {
   "cell_type": "code",
   "execution_count": 3,
   "id": "3f77bea4",
   "metadata": {},
   "outputs": [],
   "source": [
    "points = [[1,3],[-2,2]]\n",
    "k = 1"
   ]
  },
  {
   "cell_type": "code",
   "execution_count": 4,
   "id": "141c71fe",
   "metadata": {},
   "outputs": [],
   "source": [
    "my_solution=Solution()"
   ]
  },
  {
   "cell_type": "code",
   "execution_count": 5,
   "id": "06359268",
   "metadata": {},
   "outputs": [],
   "source": [
    "result=my_solution.kClosest(points,k)"
   ]
  },
  {
   "cell_type": "code",
   "execution_count": 6,
   "id": "5e463bf1",
   "metadata": {},
   "outputs": [
    {
     "name": "stdout",
     "output_type": "stream",
     "text": [
      "[[-2, 2]]\n"
     ]
    }
   ],
   "source": [
    "print(result)"
   ]
  },
  {
   "cell_type": "code",
   "execution_count": null,
   "id": "28d853bd",
   "metadata": {},
   "outputs": [],
   "source": []
  }
 ],
 "metadata": {
  "kernelspec": {
   "display_name": "Python 3 (ipykernel)",
   "language": "python",
   "name": "python3"
  },
  "language_info": {
   "codemirror_mode": {
    "name": "ipython",
    "version": 3
   },
   "file_extension": ".py",
   "mimetype": "text/x-python",
   "name": "python",
   "nbconvert_exporter": "python",
   "pygments_lexer": "ipython3",
   "version": "3.10.9"
  }
 },
 "nbformat": 4,
 "nbformat_minor": 5
}
