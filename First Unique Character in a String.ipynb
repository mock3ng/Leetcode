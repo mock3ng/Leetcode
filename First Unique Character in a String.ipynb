{
 "cells": [
  {
   "cell_type": "code",
   "execution_count": 1,
   "id": "cb8a4d26",
   "metadata": {},
   "outputs": [],
   "source": [
    "class Solution:\n",
    "    def firstUniqChar(self, s: str) -> int:\n",
    "        my_hash = {}   # Create an empty hash table\n",
    "        for word in s:   # Loop through each character in the string\n",
    "            if word in my_hash:   # If the character is already in the hash table, increment its count\n",
    "                my_hash[word] = my_hash[word] + 1\n",
    "            else:   # If the character is not in the hash table, add it with a count of 1\n",
    "                my_hash[word] = 1\n",
    "        for key in my_hash:   # Loop through the keys in the hash table\n",
    "            if my_hash[key] == 1:   # If the count of the character is 1, return its index in the string\n",
    "                return s.index(key)\n",
    "        return -1   # If no unique character is found, return -1"
   ]
  },
  {
   "cell_type": "code",
   "execution_count": 2,
   "id": "52ad2661",
   "metadata": {},
   "outputs": [],
   "source": [
    "s = \"aadadaad\""
   ]
  },
  {
   "cell_type": "code",
   "execution_count": 3,
   "id": "29d27ae4",
   "metadata": {},
   "outputs": [],
   "source": [
    "my_solution=Solution()"
   ]
  },
  {
   "cell_type": "code",
   "execution_count": 4,
   "id": "6216c435",
   "metadata": {},
   "outputs": [],
   "source": [
    "result=my_solution.firstUniqChar(s)"
   ]
  },
  {
   "cell_type": "code",
   "execution_count": 5,
   "id": "af31ae8a",
   "metadata": {},
   "outputs": [
    {
     "name": "stdout",
     "output_type": "stream",
     "text": [
      "-1\n"
     ]
    }
   ],
   "source": [
    "print(result)"
   ]
  },
  {
   "cell_type": "code",
   "execution_count": null,
   "id": "1e8810c5",
   "metadata": {},
   "outputs": [],
   "source": []
  }
 ],
 "metadata": {
  "kernelspec": {
   "display_name": "Python 3 (ipykernel)",
   "language": "python",
   "name": "python3"
  },
  "language_info": {
   "codemirror_mode": {
    "name": "ipython",
    "version": 3
   },
   "file_extension": ".py",
   "mimetype": "text/x-python",
   "name": "python",
   "nbconvert_exporter": "python",
   "pygments_lexer": "ipython3",
   "version": "3.10.9"
  }
 },
 "nbformat": 4,
 "nbformat_minor": 5
}
