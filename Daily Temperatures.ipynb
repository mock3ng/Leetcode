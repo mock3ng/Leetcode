{
 "cells": [
  {
   "cell_type": "code",
   "execution_count": 1,
   "id": "faf2ad80",
   "metadata": {},
   "outputs": [],
   "source": [
    "class Solution:\n",
    "    def dailyTemperatures(self, temperatures: list[int]) -> list[int]:\n",
    "        result = [0] * len(temperatures)  # create a result list of zeros with same length as temperatures\n",
    "        myStack = []  # create an empty stack to store temperature and index pairs\n",
    "        for ix, temperature in enumerate(temperatures):\n",
    "            while myStack and temperature > myStack[-1][0]:  # if current temperature is higher than the top of the stack\n",
    "                stackTemp, stackIndex = myStack.pop()  # remove the top of the stack and get its temperature and index\n",
    "                result[stackIndex] = ix - stackIndex  # calculate the difference in days and assign it to the result list\n",
    "            myStack.append([temperature, ix])  # add the current temperature and index to the stack\n",
    "        return result  # return the result list"
   ]
  },
  {
   "cell_type": "markdown",
   "id": "bb7c905b",
   "metadata": {},
   "source": [
    "The code takes in a list of temperatures and returns a list of how many days one has to wait until a warmer temperature is observed.\n",
    "\n",
    "It initializes a result list of zeros with the same length as the input temperatures. It also initializes an empty myStack list to store temperature and index pairs.\n",
    "\n",
    "It then loops through each temperature in the input temperatures list using enumerate(), keeping track of the index of each temperature with ix.\n",
    "\n",
    "It then checks whether the myStack is not empty and whether the current temperature is greater than the temperature at the top of the myStack. If so, it pops the top of the myStack and calculates the difference in days by subtracting the current index from the index of the top of the myStack. The difference in days is assigned to the corresponding index in the result list.\n",
    "\n",
    "It then adds the current temperature and index to the top of the myStack.\n",
    "\n",
    "Finally, it returns the result list."
   ]
  },
  {
   "cell_type": "code",
   "execution_count": 2,
   "id": "163701ba",
   "metadata": {},
   "outputs": [],
   "source": [
    "my_solution=Solution()"
   ]
  },
  {
   "cell_type": "code",
   "execution_count": 3,
   "id": "a8dd5fe4",
   "metadata": {},
   "outputs": [],
   "source": [
    "temperatures = [73,74,75,71,69,72,76,73]"
   ]
  },
  {
   "cell_type": "code",
   "execution_count": 4,
   "id": "0e57ece8",
   "metadata": {},
   "outputs": [],
   "source": [
    "result=my_solution.dailyTemperatures(temperatures)"
   ]
  },
  {
   "cell_type": "code",
   "execution_count": 5,
   "id": "a8a0fdee",
   "metadata": {},
   "outputs": [
    {
     "name": "stdout",
     "output_type": "stream",
     "text": [
      "[1, 1, 4, 2, 1, 1, 0, 0]\n"
     ]
    }
   ],
   "source": [
    "print(result)"
   ]
  },
  {
   "cell_type": "code",
   "execution_count": null,
   "id": "332dc899",
   "metadata": {},
   "outputs": [],
   "source": []
  }
 ],
 "metadata": {
  "kernelspec": {
   "display_name": "Python 3 (ipykernel)",
   "language": "python",
   "name": "python3"
  },
  "language_info": {
   "codemirror_mode": {
    "name": "ipython",
    "version": 3
   },
   "file_extension": ".py",
   "mimetype": "text/x-python",
   "name": "python",
   "nbconvert_exporter": "python",
   "pygments_lexer": "ipython3",
   "version": "3.10.9"
  }
 },
 "nbformat": 4,
 "nbformat_minor": 5
}
