{
 "cells": [
  {
   "cell_type": "code",
   "execution_count": 1,
   "id": "e40c578c",
   "metadata": {},
   "outputs": [],
   "source": [
    "class Solution:\n",
    "    def searchMatrix(self, matrix: list[list[int]], target: int) -> bool:\n",
    "        for i in matrix:\n",
    "            if target>max(i):\n",
    "                continue\n",
    "            else:\n",
    "                for k in i:\n",
    "                    if target==k:\n",
    "                        return True\n",
    "                return False"
   ]
  },
  {
   "cell_type": "code",
   "execution_count": 2,
   "id": "6018af47",
   "metadata": {},
   "outputs": [],
   "source": [
    "my_solution=Solution()"
   ]
  },
  {
   "cell_type": "code",
   "execution_count": 7,
   "id": "fd63f244",
   "metadata": {},
   "outputs": [],
   "source": [
    "matrix = [[1,3,5,7],[10,11,16,20],[23,30,34,60]]\n",
    "target=3"
   ]
  },
  {
   "cell_type": "code",
   "execution_count": 8,
   "id": "e87b7f47",
   "metadata": {},
   "outputs": [],
   "source": [
    "result=my_solution.searchMatrix(matrix,target)"
   ]
  },
  {
   "cell_type": "code",
   "execution_count": 9,
   "id": "42069179",
   "metadata": {},
   "outputs": [
    {
     "name": "stdout",
     "output_type": "stream",
     "text": [
      "True\n"
     ]
    }
   ],
   "source": [
    "print(result)"
   ]
  },
  {
   "cell_type": "code",
   "execution_count": null,
   "id": "fada69c1",
   "metadata": {},
   "outputs": [],
   "source": []
  }
 ],
 "metadata": {
  "kernelspec": {
   "display_name": "Python 3 (ipykernel)",
   "language": "python",
   "name": "python3"
  },
  "language_info": {
   "codemirror_mode": {
    "name": "ipython",
    "version": 3
   },
   "file_extension": ".py",
   "mimetype": "text/x-python",
   "name": "python",
   "nbconvert_exporter": "python",
   "pygments_lexer": "ipython3",
   "version": "3.10.9"
  }
 },
 "nbformat": 4,
 "nbformat_minor": 5
}
