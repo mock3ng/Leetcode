{
 "cells": [
  {
   "cell_type": "code",
   "execution_count": 1,
   "id": "d3922563",
   "metadata": {},
   "outputs": [],
   "source": [
    "class Solution:\n",
    "    def majorityElement(self, nums: list[int]) -> int:\n",
    "        result=0\n",
    "        count=0\n",
    "        for i in nums:\n",
    "            if count==0:\n",
    "                result=i\n",
    "            if i==result:\n",
    "                count+=1\n",
    "            else:\n",
    "                count-=1\n",
    "        return result"
   ]
  },
  {
   "cell_type": "markdown",
   "id": "0791aa49",
   "metadata": {},
   "source": [
    "This code aims to find the majority element in a list of integers.\n",
    "\n",
    "In the majorityElement method, the result variable is initially set to 0 and the count variable is set to 0.\n",
    "\n",
    "The loop iterates over each element in the nums list. If count is 0, result is updated with the current element. If the current element is the same as result, count is incremented. Otherwise, count is decremented.\n",
    "\n",
    "At the end of the loop, the value of result will be the majority element in the nums list. The code then returns result."
   ]
  },
  {
   "cell_type": "code",
   "execution_count": 2,
   "id": "893976e8",
   "metadata": {},
   "outputs": [],
   "source": [
    "nums = [3,2,3]"
   ]
  },
  {
   "cell_type": "code",
   "execution_count": 3,
   "id": "c1465ebd",
   "metadata": {},
   "outputs": [],
   "source": [
    "my_solution=Solution()"
   ]
  },
  {
   "cell_type": "code",
   "execution_count": 4,
   "id": "b3ed3c38",
   "metadata": {},
   "outputs": [],
   "source": [
    "result=my_solution.majorityElement(nums)"
   ]
  },
  {
   "cell_type": "code",
   "execution_count": 5,
   "id": "b1aed9c8",
   "metadata": {},
   "outputs": [
    {
     "name": "stdout",
     "output_type": "stream",
     "text": [
      "3\n"
     ]
    }
   ],
   "source": [
    "print(result)"
   ]
  },
  {
   "cell_type": "code",
   "execution_count": null,
   "id": "b8a01e4b",
   "metadata": {},
   "outputs": [],
   "source": []
  }
 ],
 "metadata": {
  "kernelspec": {
   "display_name": "Python 3 (ipykernel)",
   "language": "python",
   "name": "python3"
  },
  "language_info": {
   "codemirror_mode": {
    "name": "ipython",
    "version": 3
   },
   "file_extension": ".py",
   "mimetype": "text/x-python",
   "name": "python",
   "nbconvert_exporter": "python",
   "pygments_lexer": "ipython3",
   "version": "3.10.9"
  }
 },
 "nbformat": 4,
 "nbformat_minor": 5
}
