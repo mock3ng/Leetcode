{
 "cells": [
  {
   "cell_type": "code",
   "execution_count": 75,
   "id": "dca6c792",
   "metadata": {},
   "outputs": [],
   "source": [
    "class Solution:\n",
    "    def isValid(self, s: str) -> bool:\n",
    "        loopcount=len(s)-1 # the number of times to iterate over the string\n",
    "        s=list(s) # convert the string to a list for easier manipulation\n",
    "        while loopcount>0: # loop until all pairs of brackets are removed\n",
    "            for ix,curr in enumerate(s) : # iterate over the list of brackets\n",
    "                if ix!=len(s)-1: # check if the current bracket is not the last one in the list\n",
    "                    if curr==\"[\":\n",
    "                        if s[ix+1]==\"]\": # check if the next bracket is a closing bracket for the current bracket\n",
    "                            s.pop(ix) # remove the current bracket from the list\n",
    "                            s.pop(ix) # remove the next bracket from the list\n",
    "                    if curr==\"(\": \n",
    "                        if s[ix+1]==\")\":\n",
    "                            s.pop(ix)\n",
    "                            s.pop(ix)\n",
    "                    if curr==\"{\":\n",
    "                        if s[ix+1]==\"}\":\n",
    "                            s.pop(ix)\n",
    "                            s.pop(ix)\n",
    "            loopcount-=1 # decrease the number of iterations\n",
    "        return len(s)==0 # return True if there are no brackets left in the list"
   ]
  },
  {
   "cell_type": "code",
   "execution_count": 76,
   "id": "7b253442",
   "metadata": {},
   "outputs": [],
   "source": [
    "my_solution=Solution()"
   ]
  },
  {
   "cell_type": "code",
   "execution_count": 89,
   "id": "42e33a3d",
   "metadata": {},
   "outputs": [],
   "source": [
    "s=\"[(())]\""
   ]
  },
  {
   "cell_type": "code",
   "execution_count": 90,
   "id": "74e4d1a2",
   "metadata": {},
   "outputs": [],
   "source": [
    "result=my_solution.isValid(s)"
   ]
  },
  {
   "cell_type": "code",
   "execution_count": 91,
   "id": "3a936b52",
   "metadata": {},
   "outputs": [
    {
     "name": "stdout",
     "output_type": "stream",
     "text": [
      "True\n"
     ]
    }
   ],
   "source": [
    "print(result)"
   ]
  },
  {
   "cell_type": "code",
   "execution_count": null,
   "id": "763f48e7",
   "metadata": {},
   "outputs": [],
   "source": []
  }
 ],
 "metadata": {
  "kernelspec": {
   "display_name": "Python 3 (ipykernel)",
   "language": "python",
   "name": "python3"
  },
  "language_info": {
   "codemirror_mode": {
    "name": "ipython",
    "version": 3
   },
   "file_extension": ".py",
   "mimetype": "text/x-python",
   "name": "python",
   "nbconvert_exporter": "python",
   "pygments_lexer": "ipython3",
   "version": "3.10.9"
  }
 },
 "nbformat": 4,
 "nbformat_minor": 5
}
