{
 "cells": [
  {
   "cell_type": "code",
   "execution_count": 1,
   "id": "0901f041",
   "metadata": {},
   "outputs": [],
   "source": [
    "class Solution:\n",
    "    def sortedSquares(self, nums: list[int]) -> list[int]:\n",
    "        list_new=[]\n",
    "        for i in nums:\n",
    "            list_new.append(int(i*i))\n",
    "            list_new.sort()\n",
    "\n",
    "        return list_new"
   ]
  },
  {
   "cell_type": "code",
   "execution_count": 2,
   "id": "7b466547",
   "metadata": {},
   "outputs": [],
   "source": [
    "my_solution=Solution()"
   ]
  },
  {
   "cell_type": "code",
   "execution_count": 3,
   "id": "464b031e",
   "metadata": {},
   "outputs": [],
   "source": [
    "nums = [-4,-1,0,3,10]"
   ]
  },
  {
   "cell_type": "code",
   "execution_count": 4,
   "id": "e9565ace",
   "metadata": {},
   "outputs": [],
   "source": [
    "result=my_solution.sortedSquares(nums)"
   ]
  },
  {
   "cell_type": "code",
   "execution_count": 5,
   "id": "5175be0f",
   "metadata": {},
   "outputs": [
    {
     "name": "stdout",
     "output_type": "stream",
     "text": [
      "[0, 1, 9, 16, 100]\n"
     ]
    }
   ],
   "source": [
    "print(result)"
   ]
  },
  {
   "cell_type": "code",
   "execution_count": null,
   "id": "d1623c10",
   "metadata": {},
   "outputs": [],
   "source": []
  }
 ],
 "metadata": {
  "kernelspec": {
   "display_name": "Python 3 (ipykernel)",
   "language": "python",
   "name": "python3"
  },
  "language_info": {
   "codemirror_mode": {
    "name": "ipython",
    "version": 3
   },
   "file_extension": ".py",
   "mimetype": "text/x-python",
   "name": "python",
   "nbconvert_exporter": "python",
   "pygments_lexer": "ipython3",
   "version": "3.10.9"
  }
 },
 "nbformat": 4,
 "nbformat_minor": 5
}
