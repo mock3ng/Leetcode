{
 "cells": [
  {
   "cell_type": "code",
   "execution_count": 1,
   "id": "b4631793",
   "metadata": {},
   "outputs": [],
   "source": [
    "def encode(self, longUrl: str) -> str:\n",
    "    # if the long URL is not yet in the encoding map, generate a new short URL\n",
    "    if longUrl not in self.encodingMap:\n",
    "        # the short URL is based on the current length of the encoding map plus 1\n",
    "        shortUrl = self.baseUrl + str(len(self.encodingMap) + 1)\n",
    "        # add the long URL and its corresponding short URL to the maps\n",
    "        self.encodingMap[longUrl] = shortUrl\n",
    "        self.decodingMap[shortUrl] = longUrl\n",
    "    # return the short URL corresponding to the given long URL\n",
    "    return self.encodingMap[longUrl]\n",
    "    \n",
    "\n",
    "def decode(self, shortUrl: str) -> str:\n",
    "    # return the long URL corresponding to the given short URL\n",
    "    return self.decodingMap[shortUrl]"
   ]
  },
  {
   "cell_type": "code",
   "execution_count": 2,
   "id": "351c8cdb",
   "metadata": {},
   "outputs": [],
   "source": [
    "my_solution=Codec()"
   ]
  },
  {
   "cell_type": "code",
   "execution_count": 3,
   "id": "056a5959",
   "metadata": {},
   "outputs": [],
   "source": [
    "url = \"https://leetcode.com/problems/design-tinyurl\""
   ]
  },
  {
   "cell_type": "code",
   "execution_count": 4,
   "id": "4df3656d",
   "metadata": {},
   "outputs": [],
   "source": [
    "result=my_solution.encode(url)"
   ]
  },
  {
   "cell_type": "code",
   "execution_count": 5,
   "id": "ea06d3c4",
   "metadata": {},
   "outputs": [
    {
     "name": "stdout",
     "output_type": "stream",
     "text": [
      "https://tinyurl.com/1\n"
     ]
    }
   ],
   "source": [
    "print(result)"
   ]
  },
  {
   "cell_type": "code",
   "execution_count": null,
   "id": "3186a0fb",
   "metadata": {},
   "outputs": [],
   "source": []
  }
 ],
 "metadata": {
  "kernelspec": {
   "display_name": "Python 3 (ipykernel)",
   "language": "python",
   "name": "python3"
  },
  "language_info": {
   "codemirror_mode": {
    "name": "ipython",
    "version": 3
   },
   "file_extension": ".py",
   "mimetype": "text/x-python",
   "name": "python",
   "nbconvert_exporter": "python",
   "pygments_lexer": "ipython3",
   "version": "3.10.9"
  }
 },
 "nbformat": 4,
 "nbformat_minor": 5
}
