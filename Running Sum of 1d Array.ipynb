{
 "cells": [
  {
   "cell_type": "code",
   "execution_count": 1,
   "id": "b986fae0",
   "metadata": {},
   "outputs": [],
   "source": [
    "class Solution:\n",
    "    def runningSum(self,nums: list[int])->list[int]:\n",
    "        liste=[]\n",
    "        for i in range(0,len(nums)):\n",
    "            if i!=0 and i!=1:\n",
    "                \n",
    "                    a=sum(nums[0:i+1])\n",
    "                    liste.append(a)\n",
    "            elif i==0:\n",
    "                liste.append(nums[i])\n",
    "            else:\n",
    "                liste.append(nums[i]+nums[i-1])\n",
    "        return liste"
   ]
  },
  {
   "cell_type": "markdown",
   "id": "db56ab9e",
   "metadata": {},
   "source": [
    "This is a function named runningSum that takes a list of integers as input and returns a new list where each element is the running sum of the original list up to that index. Here's how the code works:\n",
    "\n",
    "A new empty list called liste is created.\n",
    "A for loop is used to iterate over the input list nums, starting from index 0 and ending at the last index.\n",
    "For each index i in the loop, the sum of the sub-list from index 0 to i is calculated using the built-in sum() function and stored in a variable a.\n",
    "If i is not 0 or 1 (i.e., not the first or second element of the list), the calculated sum a is appended to the liste.\n",
    "If i is 0, the first element of nums is directly appended to liste.\n",
    "If i is 1, the sum of the first two elements of nums is appended to liste.\n",
    "After the loop completes, the liste is returned as the output of the function.\n",
    "This function can be used to calculate the running sum of a list of numbers. For example, if we call the function with the input [1,2,3,4], it will return the list [1,3,6,10], which is the running sum of the input list."
   ]
  },
  {
   "cell_type": "code",
   "execution_count": 2,
   "id": "0f438879",
   "metadata": {},
   "outputs": [],
   "source": [
    "my_solution=Solution()"
   ]
  },
  {
   "cell_type": "code",
   "execution_count": 3,
   "id": "4f2df189",
   "metadata": {},
   "outputs": [],
   "source": [
    "nums = [1,2,3,4]"
   ]
  },
  {
   "cell_type": "code",
   "execution_count": 4,
   "id": "143eddef",
   "metadata": {},
   "outputs": [],
   "source": [
    "result=my_solution.runningSum(nums)"
   ]
  },
  {
   "cell_type": "code",
   "execution_count": 5,
   "id": "2daeeec1",
   "metadata": {},
   "outputs": [
    {
     "name": "stdout",
     "output_type": "stream",
     "text": [
      "[1, 3, 6, 10]\n"
     ]
    }
   ],
   "source": [
    "print(result)"
   ]
  },
  {
   "cell_type": "code",
   "execution_count": null,
   "id": "b14fdd0f",
   "metadata": {},
   "outputs": [],
   "source": []
  }
 ],
 "metadata": {
  "kernelspec": {
   "display_name": "Python 3 (ipykernel)",
   "language": "python",
   "name": "python3"
  },
  "language_info": {
   "codemirror_mode": {
    "name": "ipython",
    "version": 3
   },
   "file_extension": ".py",
   "mimetype": "text/x-python",
   "name": "python",
   "nbconvert_exporter": "python",
   "pygments_lexer": "ipython3",
   "version": "3.10.9"
  }
 },
 "nbformat": 4,
 "nbformat_minor": 5
}
