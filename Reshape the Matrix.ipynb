{
 "cells": [
  {
   "cell_type": "code",
   "execution_count": 6,
   "id": "5bd50a33",
   "metadata": {},
   "outputs": [],
   "source": [
    "import itertools"
   ]
  },
  {
   "cell_type": "code",
   "execution_count": 7,
   "id": "38412d65",
   "metadata": {},
   "outputs": [],
   "source": [
    "class Solution:\n",
    "    def matrixReshape(self, mat: list[list[int]], r: int, c: int) -> list[list[int]]:\n",
    "        mat1=list(itertools.chain(*mat))\n",
    "        mat1.insert(0,0)\n",
    "        my_new=[]\n",
    "        if r*c==len(mat1)-1:\n",
    "            for i in range(1,len(mat1),(len(mat1)//r)):\n",
    "                my_new.append(mat1[i:(i+len(mat1)//r)])\n",
    "            return my_new\n",
    "        return mat"
   ]
  },
  {
   "cell_type": "markdown",
   "id": "6697cb7e",
   "metadata": {},
   "source": [
    "This is a Python code for the \"matrixReshape\" problem. Given a matrix represented as a list of lists \"mat\", the goal is to reshape it into a new matrix of size \"r\" x \"c\" while preserving its original data. If the reshape operation is possible, return the new reshaped matrix, otherwise, return the original matrix.\n",
    "\n",
    "The code starts by flattening the input matrix \"mat\" into a single list using itertools.chain. The flattened list is stored in a new variable \"mat1\". Then, an extra element (0) is inserted at the beginning of the \"mat1\" list to help with indexing.\n",
    "\n",
    "Next, the code checks if the total number of elements in the new reshaped matrix equals the number of elements in the original matrix. If it does not match, it means that the reshape operation is not possible, and the original matrix is returned.\n",
    "\n",
    "If the reshape operation is possible, the code creates an empty list \"my_new\" to store the reshaped matrix. It then uses a for loop to iterate through the \"mat1\" list starting from index 1 (since the 0th element is a dummy element). The loop steps through the \"mat1\" list in increments of \"len(mat1)//r\", which is the number of elements in each row of the new matrix. At each step, it slices the \"mat1\" list to get the current row and appends it to the \"my_new\" list.\n",
    "\n",
    "Finally, the code returns the new reshaped matrix if the reshape operation was possible, or the original matrix if it was not."
   ]
  },
  {
   "cell_type": "code",
   "execution_count": 8,
   "id": "39fb3666",
   "metadata": {},
   "outputs": [],
   "source": [
    "my_solution=Solution()"
   ]
  },
  {
   "cell_type": "code",
   "execution_count": 9,
   "id": "249433ab",
   "metadata": {},
   "outputs": [],
   "source": [
    "mat = [[1,2],[3,4]]\n",
    "r = 1\n",
    "c = 4"
   ]
  },
  {
   "cell_type": "code",
   "execution_count": 10,
   "id": "da0db909",
   "metadata": {},
   "outputs": [],
   "source": [
    "result=my_solution.matrixReshape(mat,r,c)"
   ]
  },
  {
   "cell_type": "code",
   "execution_count": 11,
   "id": "fefb705a",
   "metadata": {},
   "outputs": [
    {
     "name": "stdout",
     "output_type": "stream",
     "text": [
      "[[1, 2, 3, 4]]\n"
     ]
    }
   ],
   "source": [
    "print(result)"
   ]
  },
  {
   "cell_type": "code",
   "execution_count": null,
   "id": "cffa6635",
   "metadata": {},
   "outputs": [],
   "source": []
  }
 ],
 "metadata": {
  "kernelspec": {
   "display_name": "Python 3 (ipykernel)",
   "language": "python",
   "name": "python3"
  },
  "language_info": {
   "codemirror_mode": {
    "name": "ipython",
    "version": 3
   },
   "file_extension": ".py",
   "mimetype": "text/x-python",
   "name": "python",
   "nbconvert_exporter": "python",
   "pygments_lexer": "ipython3",
   "version": "3.10.9"
  }
 },
 "nbformat": 4,
 "nbformat_minor": 5
}
