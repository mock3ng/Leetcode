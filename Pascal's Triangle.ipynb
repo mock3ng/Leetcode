{
 "cells": [
  {
   "cell_type": "code",
   "execution_count": 1,
   "id": "c1555864",
   "metadata": {},
   "outputs": [],
   "source": [
    "class Solution:\n",
    "    def generate(self, numRows: int) -> list[list[int]] :\n",
    "        my_pascal=[[1]]*numRows\n",
    "        if numRows>1:\n",
    "            for i in range(0,numRows):\n",
    "                my_pascal[i]=[1]*(i+1)\n",
    "            for ix,list_num in enumerate(my_pascal):\n",
    "                for i in range (len(list_num[1:len(my_pascal[ix])-1])):\n",
    "                    my_pascal[ix][1+i]=sum(my_pascal[ix-1][i:i+2])\n",
    "            return my_pascal\n",
    "        else:\n",
    "            return [[numRows]]"
   ]
  },
  {
   "cell_type": "markdown",
   "id": "c20e0670",
   "metadata": {},
   "source": [
    "This code implements a solution to generate the Pascal's triangle up to a given number of rows, specified by the input variable numRows. The function generate receives an integer as input and returns a list of lists with integers representing each row of the Pascal's triangle.\n",
    "\n",
    "First, the code initializes the list my_pascal with numRows lists containing only the integer 1. Then, if numRows is greater than 1, the code iterates over the list of lists, and for each list except the first one, it calculates the new values based on the previous row's values. This is done by iterating over the indexes of the elements from the second to the second to last element of the list, and setting each element to the sum of the two corresponding elements in the previous row. Finally, the function returns the list of lists with the Pascal's triangle. If numRows is 1, the function returns a list containing a single list with the integer value of numRows."
   ]
  },
  {
   "cell_type": "code",
   "execution_count": 2,
   "id": "eb15b638",
   "metadata": {},
   "outputs": [],
   "source": [
    "numRows = 5"
   ]
  },
  {
   "cell_type": "code",
   "execution_count": 3,
   "id": "73eeb516",
   "metadata": {},
   "outputs": [],
   "source": [
    "my_solution=Solution()"
   ]
  },
  {
   "cell_type": "code",
   "execution_count": 4,
   "id": "16a1e2a2",
   "metadata": {},
   "outputs": [],
   "source": [
    "result=my_solution.generate(numRows)"
   ]
  },
  {
   "cell_type": "code",
   "execution_count": 5,
   "id": "9076a2d6",
   "metadata": {},
   "outputs": [
    {
     "name": "stdout",
     "output_type": "stream",
     "text": [
      "[[1], [1, 1], [1, 2, 1], [1, 3, 3, 1], [1, 4, 6, 4, 1]]\n"
     ]
    }
   ],
   "source": [
    "print(result)"
   ]
  },
  {
   "cell_type": "code",
   "execution_count": null,
   "id": "e9031e7e",
   "metadata": {},
   "outputs": [],
   "source": []
  }
 ],
 "metadata": {
  "kernelspec": {
   "display_name": "Python 3 (ipykernel)",
   "language": "python",
   "name": "python3"
  },
  "language_info": {
   "codemirror_mode": {
    "name": "ipython",
    "version": 3
   },
   "file_extension": ".py",
   "mimetype": "text/x-python",
   "name": "python",
   "nbconvert_exporter": "python",
   "pygments_lexer": "ipython3",
   "version": "3.10.9"
  }
 },
 "nbformat": 4,
 "nbformat_minor": 5
}
