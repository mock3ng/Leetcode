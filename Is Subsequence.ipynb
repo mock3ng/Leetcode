{
 "cells": [
  {
   "cell_type": "code",
   "execution_count": 1,
   "id": "9ad93c5f",
   "metadata": {},
   "outputs": [],
   "source": [
    "class Solution:\n",
    "    def isSubsequence(self, s: str, t: str) -> bool:\n",
    "        liste_new=[]\n",
    "        if s in t:\n",
    "            return True\n",
    "        else:\n",
    "            for i in t:\n",
    "                if i in s:\n",
    "                    liste_new.append(i)\n",
    "                    continue\n",
    "\n",
    "            kk_str=\"\".join(liste_new)\n",
    "            print(kk_str,s)\n",
    "            if s==kk_str:\n",
    "                return True\n",
    "        return False"
   ]
  },
  {
   "cell_type": "markdown",
   "id": "52d0b6c0",
   "metadata": {},
   "source": [
    "This code defines a function called isSubsequence that takes in two strings, s and t, and returns a boolean value. The function first checks if s is a substring of t using the in operator. If it is, then the function returns True.\n",
    "\n",
    "If s is not a substring of t, then the function loops through each character in t. For each character, if it is in s, then it is added to a new list called new_list. At the end of the loop, new_list is joined into a string called new_str.\n",
    "\n",
    "Finally, the function checks if s and new_str are equal. If they are, then s is a subsequence of t, and the function returns True. Otherwise, the function returns False."
   ]
  },
  {
   "cell_type": "code",
   "execution_count": 2,
   "id": "da7a7683",
   "metadata": {},
   "outputs": [],
   "source": [
    "s = \"abc\"\n",
    "t = \"ahbgdc\""
   ]
  },
  {
   "cell_type": "code",
   "execution_count": 3,
   "id": "bf6efe55",
   "metadata": {},
   "outputs": [],
   "source": [
    "my_solution=Solution()"
   ]
  },
  {
   "cell_type": "code",
   "execution_count": 4,
   "id": "ccc1191a",
   "metadata": {},
   "outputs": [
    {
     "name": "stdout",
     "output_type": "stream",
     "text": [
      "abc abc\n"
     ]
    }
   ],
   "source": [
    "result=my_solution.isSubsequence(s,t)"
   ]
  },
  {
   "cell_type": "code",
   "execution_count": 5,
   "id": "4178a0e0",
   "metadata": {},
   "outputs": [
    {
     "name": "stdout",
     "output_type": "stream",
     "text": [
      "True\n"
     ]
    }
   ],
   "source": [
    "print(result)"
   ]
  },
  {
   "cell_type": "code",
   "execution_count": null,
   "id": "6e60e7d6",
   "metadata": {},
   "outputs": [],
   "source": []
  }
 ],
 "metadata": {
  "kernelspec": {
   "display_name": "Python 3 (ipykernel)",
   "language": "python",
   "name": "python3"
  },
  "language_info": {
   "codemirror_mode": {
    "name": "ipython",
    "version": 3
   },
   "file_extension": ".py",
   "mimetype": "text/x-python",
   "name": "python",
   "nbconvert_exporter": "python",
   "pygments_lexer": "ipython3",
   "version": "3.10.9"
  }
 },
 "nbformat": 4,
 "nbformat_minor": 5
}
