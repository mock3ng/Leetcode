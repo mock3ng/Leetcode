{
 "cells": [
  {
   "cell_type": "code",
   "execution_count": 1,
   "id": "29b99838",
   "metadata": {},
   "outputs": [],
   "source": [
    "class Solution:\n",
    "    def average(self, salary: list[int]) -> float:\n",
    "        # Determine the length of the input list\n",
    "        a = len(salary)\n",
    "        \n",
    "        # Create a new list containing the same elements as the input list\n",
    "        new_list = salary\n",
    "        \n",
    "        # Sort the new list in ascending order\n",
    "        new_list.sort()\n",
    "        \n",
    "        # Create a new list containing all but the first and last elements of the sorted list\n",
    "        new_list1 = new_list[1:a-1]\n",
    "        \n",
    "        # Calculate the total of the elements in the new list\n",
    "        total = sum(new_list1)\n",
    "        \n",
    "        # Calculate the average of the elements in the new list\n",
    "        total = total / (a - 2)\n",
    "        \n",
    "        # Return the average as a float\n",
    "        return total"
   ]
  },
  {
   "cell_type": "markdown",
   "id": "5fd7f669",
   "metadata": {},
   "source": [
    "This code defines a class called Solution with a single method called average. The method takes a list of integers called salary as input and returns the average of all the salaries in the list, excluding the lowest and highest salaries.\n",
    "\n",
    "To do this, the method first determines the length of the input list using the len function and stores it in a variable called a. It then creates a new list called new_list that contains the same elements as the input list.\n",
    "\n",
    "The method then sorts the new_list in ascending order using the sort method. It then creates a new list called new_list1 that contains all the elements of new_list except for the first and last elements. This is done using slice notation to select a subset of the list.\n",
    "\n",
    "The method then calculates the total of the elements in new_list1 using the sum function and stores it in a variable called total. It then calculates the average of the elements in new_list1 by dividing total by the length of new_list1, which is a-2.\n",
    "\n",
    "Finally, the method returns the average as a float using the return statement."
   ]
  },
  {
   "cell_type": "code",
   "execution_count": 2,
   "id": "ab610f0c",
   "metadata": {},
   "outputs": [],
   "source": [
    "my_solution=Solution()"
   ]
  },
  {
   "cell_type": "code",
   "execution_count": 3,
   "id": "1b1b72ee",
   "metadata": {},
   "outputs": [],
   "source": [
    "salary = [4000,3000,1000,2000]"
   ]
  },
  {
   "cell_type": "code",
   "execution_count": 4,
   "id": "07fc5fe4",
   "metadata": {},
   "outputs": [
    {
     "name": "stdout",
     "output_type": "stream",
     "text": [
      "[2000, 3000]\n",
      "5000\n",
      "2500.0\n"
     ]
    }
   ],
   "source": [
    "result=my_solution.average(salary)"
   ]
  },
  {
   "cell_type": "code",
   "execution_count": 5,
   "id": "cfc9adbf",
   "metadata": {},
   "outputs": [
    {
     "name": "stdout",
     "output_type": "stream",
     "text": [
      "2500.0\n"
     ]
    }
   ],
   "source": [
    "print(result)"
   ]
  },
  {
   "cell_type": "code",
   "execution_count": null,
   "id": "5588cd0a",
   "metadata": {},
   "outputs": [],
   "source": []
  }
 ],
 "metadata": {
  "kernelspec": {
   "display_name": "Python 3 (ipykernel)",
   "language": "python",
   "name": "python3"
  },
  "language_info": {
   "codemirror_mode": {
    "name": "ipython",
    "version": 3
   },
   "file_extension": ".py",
   "mimetype": "text/x-python",
   "name": "python",
   "nbconvert_exporter": "python",
   "pygments_lexer": "ipython3",
   "version": "3.10.9"
  }
 },
 "nbformat": 4,
 "nbformat_minor": 5
}
