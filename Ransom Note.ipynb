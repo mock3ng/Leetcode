{
 "cells": [
  {
   "cell_type": "code",
   "execution_count": 96,
   "id": "f7587c22",
   "metadata": {},
   "outputs": [],
   "source": [
    "class Solution:\n",
    "    def canConstruct(self, ransomNote: str, magazine: str) -> bool:\n",
    "        ransomNote_list=[]\n",
    "        for word1 in ransomNote:\n",
    "            ransomNote_list.append(word1)\n",
    "        for word in magazine:\n",
    "            if  word in ransomNote_list :\n",
    "                ransomNote_list.pop(ransomNote_list.index(word))\n",
    "        if len(ransomNote_list)==0:\n",
    "            return True\n",
    "        return False"
   ]
  },
  {
   "cell_type": "markdown",
   "id": "273f4e94",
   "metadata": {},
   "source": [
    "This code defines a method canConstruct which takes in two string parameters ransomNote and magazine and returns a boolean indicating whether ransomNote can be constructed from the letters in magazine.\n",
    "\n",
    "First, the code creates an empty list ransomNote_list. Then, it loops through each character word1 in ransomNote and appends it to ransomNote_list.\n",
    "\n",
    "Next, the code loops through each character word in magazine and checks if it is in ransomNote_list. If it is, it removes the first occurrence of that character from ransomNote_list.\n",
    "\n",
    "Finally, the code checks if ransomNote_list is empty. If it is, it returns True indicating that ransomNote can be constructed from the letters in magazine. Otherwise, it returns False."
   ]
  },
  {
   "cell_type": "code",
   "execution_count": 101,
   "id": "3d605459",
   "metadata": {},
   "outputs": [],
   "source": [
    "ransomNote = \"cc\"\n",
    "magazine = \"aab\""
   ]
  },
  {
   "cell_type": "code",
   "execution_count": 102,
   "id": "92a68f1e",
   "metadata": {},
   "outputs": [],
   "source": [
    "my_solution=Solution()"
   ]
  },
  {
   "cell_type": "code",
   "execution_count": 103,
   "id": "892a1ab2",
   "metadata": {},
   "outputs": [],
   "source": [
    "result=my_solution.canConstruct(ransomNote,magazine)"
   ]
  },
  {
   "cell_type": "code",
   "execution_count": 104,
   "id": "5c44d668",
   "metadata": {},
   "outputs": [
    {
     "name": "stdout",
     "output_type": "stream",
     "text": [
      "False\n"
     ]
    }
   ],
   "source": [
    "print(result)"
   ]
  },
  {
   "cell_type": "code",
   "execution_count": null,
   "id": "af5944e4",
   "metadata": {},
   "outputs": [],
   "source": []
  }
 ],
 "metadata": {
  "kernelspec": {
   "display_name": "Python 3 (ipykernel)",
   "language": "python",
   "name": "python3"
  },
  "language_info": {
   "codemirror_mode": {
    "name": "ipython",
    "version": 3
   },
   "file_extension": ".py",
   "mimetype": "text/x-python",
   "name": "python",
   "nbconvert_exporter": "python",
   "pygments_lexer": "ipython3",
   "version": "3.10.9"
  }
 },
 "nbformat": 4,
 "nbformat_minor": 5
}
