{
 "cells": [
  {
   "cell_type": "code",
   "execution_count": 39,
   "id": "2523b103",
   "metadata": {},
   "outputs": [],
   "source": [
    "class Solution:\n",
    "    def isAnagram(self, s: str, t: str) -> bool:\n",
    "        s_list=[]\n",
    "        t_list=[]\n",
    "        for word in s:\n",
    "            s_list.append(word)\n",
    "        for word in t:\n",
    "            t_list.append(word)\n",
    "        t_list.sort()\n",
    "        s_list.sort()\n",
    "        if t_list==s_list:\n",
    "            return True\n",
    "        return False\n",
    "                    "
   ]
  },
  {
   "cell_type": "code",
   "execution_count": 40,
   "id": "3488eb14",
   "metadata": {},
   "outputs": [],
   "source": [
    "s = \"anagram\"\n",
    "t = \"nagaram\""
   ]
  },
  {
   "cell_type": "code",
   "execution_count": 41,
   "id": "b98ba09c",
   "metadata": {},
   "outputs": [],
   "source": [
    "my_solution=Solution()"
   ]
  },
  {
   "cell_type": "code",
   "execution_count": 42,
   "id": "5a584c08",
   "metadata": {},
   "outputs": [],
   "source": [
    "result=my_solution.isAnagram(s,t)"
   ]
  },
  {
   "cell_type": "code",
   "execution_count": 43,
   "id": "24a37025",
   "metadata": {},
   "outputs": [
    {
     "name": "stdout",
     "output_type": "stream",
     "text": [
      "True\n"
     ]
    }
   ],
   "source": [
    "print(result)"
   ]
  },
  {
   "cell_type": "code",
   "execution_count": null,
   "id": "b5f567fb",
   "metadata": {},
   "outputs": [],
   "source": []
  }
 ],
 "metadata": {
  "kernelspec": {
   "display_name": "Python 3 (ipykernel)",
   "language": "python",
   "name": "python3"
  },
  "language_info": {
   "codemirror_mode": {
    "name": "ipython",
    "version": 3
   },
   "file_extension": ".py",
   "mimetype": "text/x-python",
   "name": "python",
   "nbconvert_exporter": "python",
   "pygments_lexer": "ipython3",
   "version": "3.10.9"
  }
 },
 "nbformat": 4,
 "nbformat_minor": 5
}
