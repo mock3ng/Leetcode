{
 "cells": [
  {
   "cell_type": "code",
   "execution_count": 1,
   "id": "8ef2ff94",
   "metadata": {},
   "outputs": [],
   "source": [
    "class Solution:\n",
    "    def merge(self, nums1: list[int], m: int, nums2: list[int], n: int) -> None:\n",
    "        for i in range(m,n+m):\n",
    "            nums1[i]=nums2[i-m]\n",
    "        nums1.sort()"
   ]
  },
  {
   "cell_type": "markdown",
   "id": "16c2deb7",
   "metadata": {},
   "source": [
    "The given code implements the merge function which takes two sorted arrays nums1 and nums2 and their respective sizes m and n. The goal of this function is to merge nums2 into nums1 as one sorted array.\n",
    "\n",
    "To achieve this, the function first iterates over the elements in nums2 and places them in nums1 starting from index m. This is done using the following loop:for i in range(m,n+m):\n",
    "    nums1[i]=nums2[i-m]\n",
    "    \n",
    "Here, range(m,n+m) generates a sequence of integers starting from m up to n+m-1. The i-m term is used to align the index of nums2 with the index of nums1. Since nums2 is being inserted starting from index m, we need to subtract m from i to get the correct index in nums2.\n",
    "\n",
    "After the elements of nums2 are inserted into nums1, the function calls the sort method of nums1 to sort the merged array in ascending order:nums1.sort()\n",
    "\n",
    "This is done because the initial order of nums1 may not be maintained after inserting nums2 into it. Sorting ensures that the merged array is properly sorted.\n",
    "\n",
    "Finally, it's important to note that the merge function doesn't return anything. Instead, it directly modifies nums1 to contain the merged and sorted array.\n",
    "\n"
   ]
  },
  {
   "cell_type": "code",
   "execution_count": 2,
   "id": "5586738b",
   "metadata": {},
   "outputs": [],
   "source": [
    "nums1 = [1,2,3,0,0,0]\n",
    "m = 3\n",
    "nums2 = [2,5,6]\n",
    "n = 3"
   ]
  },
  {
   "cell_type": "code",
   "execution_count": 3,
   "id": "9591ecc9",
   "metadata": {},
   "outputs": [],
   "source": [
    "my_solution=Solution()"
   ]
  },
  {
   "cell_type": "code",
   "execution_count": 4,
   "id": "754e57bc",
   "metadata": {},
   "outputs": [],
   "source": [
    "result=my_solution.merge(nums1,m,nums2,n)"
   ]
  },
  {
   "cell_type": "code",
   "execution_count": 5,
   "id": "63e429ef",
   "metadata": {},
   "outputs": [
    {
     "name": "stdout",
     "output_type": "stream",
     "text": [
      "None\n"
     ]
    }
   ],
   "source": [
    "print(result)"
   ]
  },
  {
   "cell_type": "code",
   "execution_count": null,
   "id": "dc554c08",
   "metadata": {},
   "outputs": [],
   "source": []
  }
 ],
 "metadata": {
  "kernelspec": {
   "display_name": "Python 3 (ipykernel)",
   "language": "python",
   "name": "python3"
  },
  "language_info": {
   "codemirror_mode": {
    "name": "ipython",
    "version": 3
   },
   "file_extension": ".py",
   "mimetype": "text/x-python",
   "name": "python",
   "nbconvert_exporter": "python",
   "pygments_lexer": "ipython3",
   "version": "3.10.9"
  }
 },
 "nbformat": 4,
 "nbformat_minor": 5
}
