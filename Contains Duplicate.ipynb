{
 "cells": [
  {
   "cell_type": "code",
   "execution_count": 1,
   "id": "bc052529",
   "metadata": {},
   "outputs": [],
   "source": [
    "class Solution:\n",
    "    def containsDuplicate(self, nums: list[int]) -> bool:\n",
    "        # sort the input list in non-descending order\n",
    "        nums.sort()\n",
    "        # iterate over the list up to the second to last element\n",
    "        for i in range(len(nums)-1):\n",
    "            # check if the current element is equal to the next element\n",
    "            if nums[i]==nums[i+1]:\n",
    "                # if it is, return True (there is a duplicate)\n",
    "                return True\n",
    "        # if no duplicates were found, return False\n",
    "        return False\n"
   ]
  },
  {
   "cell_type": "markdown",
   "id": "2ee1aaca",
   "metadata": {},
   "source": [
    "The code defines a class Solution with a method containsDuplicate that takes a list of integers as input and returns a boolean indicating whether the input list contains any duplicates.\n",
    "\n",
    "To check for duplicates, the method first sorts the input list in non-descending order using the sort method of lists. Then, it iterates over the list using a for loop, comparing each element with the next one. If a duplicate is found (i.e., two consecutive elements are equal), the method returns True. If no duplicates are found after iterating over the entire list, the method returns False."
   ]
  },
  {
   "cell_type": "code",
   "execution_count": 2,
   "id": "e219975d",
   "metadata": {},
   "outputs": [],
   "source": [
    "my_solution=Solution()"
   ]
  },
  {
   "cell_type": "code",
   "execution_count": 3,
   "id": "0c40ae3d",
   "metadata": {},
   "outputs": [],
   "source": [
    "nums = [1,2,3,1]"
   ]
  },
  {
   "cell_type": "code",
   "execution_count": 4,
   "id": "eeaa2c28",
   "metadata": {},
   "outputs": [],
   "source": [
    "result=my_solution.containsDuplicate(nums)"
   ]
  },
  {
   "cell_type": "code",
   "execution_count": 5,
   "id": "bdd9e07f",
   "metadata": {},
   "outputs": [
    {
     "name": "stdout",
     "output_type": "stream",
     "text": [
      "True\n"
     ]
    }
   ],
   "source": [
    "print(result)"
   ]
  },
  {
   "cell_type": "code",
   "execution_count": null,
   "id": "28768fef",
   "metadata": {},
   "outputs": [],
   "source": []
  }
 ],
 "metadata": {
  "kernelspec": {
   "display_name": "Python 3 (ipykernel)",
   "language": "python",
   "name": "python3"
  },
  "language_info": {
   "codemirror_mode": {
    "name": "ipython",
    "version": 3
   },
   "file_extension": ".py",
   "mimetype": "text/x-python",
   "name": "python",
   "nbconvert_exporter": "python",
   "pygments_lexer": "ipython3",
   "version": "3.10.9"
  }
 },
 "nbformat": 4,
 "nbformat_minor": 5
}
