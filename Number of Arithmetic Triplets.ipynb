{
 "cells": [
  {
   "cell_type": "code",
   "execution_count": 1,
   "id": "a938ac7a",
   "metadata": {},
   "outputs": [],
   "source": [
    "class Solution:\n",
    "    def arithmeticTriplets(self, nums: list[int], diff: int) -> int:\n",
    "        myhash={}\n",
    "        count=0\n",
    "        for ix,i in enumerate(nums):\n",
    "            target=i-diff\n",
    "            target2=target-diff\n",
    "            if target in myhash and target2 in myhash:\n",
    "                count+=1\n",
    "            myhash[i]=ix\n",
    "        return count"
   ]
  },
  {
   "cell_type": "markdown",
   "id": "d1840568",
   "metadata": {},
   "source": [
    "This code defines a function arithmeticTriplets that takes two arguments: a list of integers nums and an integer diff. The function is supposed to count the number of arithmetic triplets in the input list, where an arithmetic triplet is defined as a set of three elements in the list that form an arithmetic sequence with a common difference of diff.\n",
    "\n",
    "The implementation uses a hash table to store the indices of elements in the input list. It then iterates over the list and for each element i, it computes the two possible arithmetic triplet candidates by subtracting diff and 2*diff from it, and checks if these candidates exist in the hash table. If both candidates exist, then the current element can be used to form an arithmetic triplet with the other two elements, and the count of arithmetic triplets is incremented.\n",
    "\n",
    "Finally, the function returns the total count of arithmetic triplets found."
   ]
  },
  {
   "cell_type": "code",
   "execution_count": 2,
   "id": "efd1cea0",
   "metadata": {},
   "outputs": [],
   "source": [
    "my_solution=Solution()"
   ]
  },
  {
   "cell_type": "code",
   "execution_count": 3,
   "id": "93a4671f",
   "metadata": {},
   "outputs": [],
   "source": [
    "nums = [0,1,4,6,7,10]\n",
    "diff = 3"
   ]
  },
  {
   "cell_type": "code",
   "execution_count": 4,
   "id": "d69e2ecc",
   "metadata": {},
   "outputs": [],
   "source": [
    "result=my_solution.arithmeticTriplets(nums,diff)"
   ]
  },
  {
   "cell_type": "code",
   "execution_count": 5,
   "id": "2c7a6928",
   "metadata": {},
   "outputs": [
    {
     "name": "stdout",
     "output_type": "stream",
     "text": [
      "2\n"
     ]
    }
   ],
   "source": [
    "print(result)"
   ]
  },
  {
   "cell_type": "code",
   "execution_count": null,
   "id": "966abc4a",
   "metadata": {},
   "outputs": [],
   "source": []
  }
 ],
 "metadata": {
  "kernelspec": {
   "display_name": "Python 3 (ipykernel)",
   "language": "python",
   "name": "python3"
  },
  "language_info": {
   "codemirror_mode": {
    "name": "ipython",
    "version": 3
   },
   "file_extension": ".py",
   "mimetype": "text/x-python",
   "name": "python",
   "nbconvert_exporter": "python",
   "pygments_lexer": "ipython3",
   "version": "3.10.9"
  }
 },
 "nbformat": 4,
 "nbformat_minor": 5
}
