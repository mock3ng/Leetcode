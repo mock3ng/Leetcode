{
 "cells": [
  {
   "cell_type": "code",
   "execution_count": 1,
   "id": "e2f5c03d",
   "metadata": {},
   "outputs": [],
   "source": [
    "class Solution:\n",
    "    def maxSubArray(self, nums) -> int:\n",
    "        maxSum = 0\n",
    "        maxEndingHere = 0\n",
    "        if len(nums)==1:\n",
    "            return nums[0]\n",
    "        if all(i < 0 for i in nums):\n",
    "            return max(nums)\n",
    "        for i in range(len(nums)):\n",
    "            maxEndingHere += nums[i]\n",
    "            if maxEndingHere < 0:\n",
    "                maxEndingHere = 0\n",
    "            if maxSum < maxEndingHere:\n",
    "                maxSum = maxEndingHere\n",
    "        return maxSum"
   ]
  },
  {
   "cell_type": "markdown",
   "id": "fb12a9cb",
   "metadata": {},
   "source": [
    "This is a solution to the maximum subarray problem, which asks to find the contiguous subarray within a one-dimensional array of numbers that has the largest sum. The function takes a list of integers as input and returns the maximum sum of a contiguous subarray.\n",
    "\n",
    "The algorithm works by iterating through the input list and keeping track of the maximum sum found so far, as well as the maximum sum ending at the current index. The maxEndingHere variable is updated by adding the current element to it, and if it becomes negative, it is reset to zero, since a negative sum cannot contribute to a larger sum. The maxSum variable is updated if the current maxEndingHere is greater than it.\n",
    "\n",
    "The function includes some special cases to handle edge cases. If the input list has only one element, the maximum subarray is just the single element itself. If all elements in the list are negative, the maximum subarray is the largest negative element."
   ]
  },
  {
   "cell_type": "code",
   "execution_count": 2,
   "id": "1a29eae1",
   "metadata": {},
   "outputs": [],
   "source": [
    "nums = [-2,1,-3,4,-1,2,1,-5,4]"
   ]
  },
  {
   "cell_type": "code",
   "execution_count": 3,
   "id": "12bfbfc4",
   "metadata": {},
   "outputs": [],
   "source": [
    "my_solution=Solution()"
   ]
  },
  {
   "cell_type": "code",
   "execution_count": 4,
   "id": "d4a75b42",
   "metadata": {},
   "outputs": [],
   "source": [
    "result=my_solution.maxSubArray(nums)"
   ]
  },
  {
   "cell_type": "code",
   "execution_count": 5,
   "id": "3c27f92b",
   "metadata": {},
   "outputs": [
    {
     "name": "stdout",
     "output_type": "stream",
     "text": [
      "6\n"
     ]
    }
   ],
   "source": [
    "print(result)"
   ]
  },
  {
   "cell_type": "code",
   "execution_count": null,
   "id": "9b32623e",
   "metadata": {},
   "outputs": [],
   "source": []
  }
 ],
 "metadata": {
  "kernelspec": {
   "display_name": "Python 3 (ipykernel)",
   "language": "python",
   "name": "python3"
  },
  "language_info": {
   "codemirror_mode": {
    "name": "ipython",
    "version": 3
   },
   "file_extension": ".py",
   "mimetype": "text/x-python",
   "name": "python",
   "nbconvert_exporter": "python",
   "pygments_lexer": "ipython3",
   "version": "3.10.9"
  }
 },
 "nbformat": 4,
 "nbformat_minor": 5
}
