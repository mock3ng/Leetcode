{
 "cells": [
  {
   "cell_type": "code",
   "execution_count": 1,
   "id": "9383e25e",
   "metadata": {},
   "outputs": [],
   "source": [
    "class Solution:\n",
    "    def numIslands(self, grid: list[list[str]]) -> int:\n",
    "        if not grid:\n",
    "            return 0\n",
    "        \n",
    "        rowNumber = len(grid)\n",
    "        columnNumber = len(grid[0])\n",
    "        \n",
    "        visited = set()\n",
    "        \n",
    "        islandCounter = 0\n",
    "        \n",
    "        def bfs(row,column):\n",
    "            myQueue = []\n",
    "            \n",
    "            visited.add((row,column))\n",
    "            myQueue.append((row,column))\n",
    "            \n",
    "            \n",
    "            while len(myQueue) != 0:\n",
    "                row,column = myQueue.pop(0)\n",
    "                myDirections = [[1,0],[-1,0],[0,1],[0,-1]]\n",
    "                \n",
    "                for rowDirection, columnDirection in myDirections:\n",
    "                    newRow = row + rowDirection\n",
    "                    newColumn = column + columnDirection\n",
    "                    \n",
    "                    if(newRow in range(rowNumber) and\n",
    "                      newColumn in range(columnNumber) and\n",
    "                       grid[newRow][newColumn] == \"1\" and\n",
    "                       (newRow, newColumn) not in visited):\n",
    "                        myQueue.append((newRow, newColumn))\n",
    "                        visited.add((newRow, newColumn))\n",
    "                        \n",
    "            \n",
    "        for row in range(rowNumber):\n",
    "            for column in range(columnNumber):\n",
    "                if grid[row][column] == \"1\" and (row,column) not in visited:\n",
    "                    bfs(row,column)\n",
    "                    islandCounter += 1\n",
    "                        \n",
    "        return islandCounter"
   ]
  },
  {
   "cell_type": "markdown",
   "id": "197022fa",
   "metadata": {},
   "source": [
    "This is a Python implementation of the \"Number of Islands\" problem. The problem is to find the number of islands in a given 2D grid map of '1's (land) and '0's (water). An island is surrounded by water and is formed by connecting adjacent lands horizontally or vertically.\n",
    "\n",
    "The implementation first checks if the given grid is empty, and returns 0 if so. It then gets the number of rows and columns of the grid. A set called \"visited\" is initialized to keep track of which cells have already been visited. An island counter is initialized to 0.\n",
    "\n",
    "A function called \"bfs\" is defined to implement the Breadth-First Search algorithm for traversing the grid. It takes a row and column as arguments and visits all connected cells in the grid starting from that cell. The cells to be visited are added to a queue, and while the queue is not empty, cells are popped from the queue and their neighbors are checked. If a neighbor is a land cell and hasn't been visited yet, it is added to the queue and marked as visited.\n",
    "\n",
    "The implementation then loops through each cell in the grid and checks if it is a land cell and hasn't been visited yet. If it is, the \"bfs\" function is called starting from that cell. The island counter is incremented for each island found.\n",
    "\n",
    "Finally, the implementation returns the total number of islands found."
   ]
  },
  {
   "cell_type": "code",
   "execution_count": 2,
   "id": "ad8e9ae2",
   "metadata": {},
   "outputs": [],
   "source": [
    "my_solution=Solution()"
   ]
  },
  {
   "cell_type": "code",
   "execution_count": 3,
   "id": "9619ef54",
   "metadata": {},
   "outputs": [],
   "source": [
    "grid = [\n",
    "  [\"1\",\"1\",\"1\",\"1\",\"0\"],\n",
    "  [\"1\",\"1\",\"0\",\"1\",\"0\"],\n",
    "  [\"1\",\"1\",\"0\",\"0\",\"0\"],\n",
    "  [\"0\",\"0\",\"0\",\"0\",\"0\"]\n",
    "]"
   ]
  },
  {
   "cell_type": "code",
   "execution_count": 4,
   "id": "09e23d25",
   "metadata": {},
   "outputs": [],
   "source": [
    "result=my_solution.numIslands(grid)"
   ]
  },
  {
   "cell_type": "code",
   "execution_count": 5,
   "id": "20e09453",
   "metadata": {},
   "outputs": [
    {
     "name": "stdout",
     "output_type": "stream",
     "text": [
      "1\n"
     ]
    }
   ],
   "source": [
    "print(result)"
   ]
  },
  {
   "cell_type": "code",
   "execution_count": null,
   "id": "631452ef",
   "metadata": {},
   "outputs": [],
   "source": []
  }
 ],
 "metadata": {
  "kernelspec": {
   "display_name": "Python 3 (ipykernel)",
   "language": "python",
   "name": "python3"
  },
  "language_info": {
   "codemirror_mode": {
    "name": "ipython",
    "version": 3
   },
   "file_extension": ".py",
   "mimetype": "text/x-python",
   "name": "python",
   "nbconvert_exporter": "python",
   "pygments_lexer": "ipython3",
   "version": "3.10.9"
  }
 },
 "nbformat": 4,
 "nbformat_minor": 5
}
