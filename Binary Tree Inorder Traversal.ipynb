{
 "cells": [
  {
   "cell_type": "code",
   "execution_count": null,
   "id": "21b5b1b8",
   "metadata": {},
   "outputs": [],
   "source": [
    "# Definition for a binary tree node.\n",
    "# class TreeNode:\n",
    "#     def __init__(self, val=0, left=None, right=None):\n",
    "#         self.val = val\n",
    "#         self.left = left\n",
    "#         self.right = right\n",
    "\n",
    "class Solution:\n",
    "    def inorderTraversal(self, root: Optional[TreeNode]) -> List[int]:\n",
    "        # Create an empty list to store the values in inorder traversal order\n",
    "        values = []\n",
    "        \n",
    "        # Define a recursive helper function to traverse the tree in inorder\n",
    "        def traverse(currnode):\n",
    "            # Traverse the left subtree if it exists\n",
    "            if currnode.left:\n",
    "                traverse(currnode.left)\n",
    "                \n",
    "            # Append the current node's value to the values list\n",
    "            values.append(currnode.val)\n",
    "            \n",
    "            # Traverse the right subtree if it exists\n",
    "            if currnode.right:\n",
    "                traverse(currnode.right)\n",
    "        \n",
    "        # If the root exists, traverse the tree and return the values list\n",
    "        if root:\n",
    "            traverse(root)\n",
    "            return values\n",
    "        \n",
    "        # If the root does not exist, return None\n",
    "        else:\n",
    "            return root"
   ]
  },
  {
   "cell_type": "markdown",
   "id": "32317611",
   "metadata": {},
   "source": [
    "This code defines a class called Solution with a single method called inorderTraversal. The method takes a binary tree represented by its root node called root as input and returns the values in the tree in inorder traversal order.\n",
    "\n",
    "To do this, the method first creates an empty list called values to store the values in inorder traversal order.\n",
    "\n",
    "The method then defines a recursive helper function called traverse that takes a node called currnode as input. The helper function first checks if the left subtree of the current node exists. If it does, it calls itself recursively with the left child node as the new input.\n",
    "\n",
    "The helper function then appends the value of the current node to the values list.\n",
    "\n",
    "Finally, the helper function checks if the right subtree of the current node exists. If it does, it calls itself recursively with the right child node as the new input.\n",
    "\n",
    "After defining the traverse function, the method checks if the root node exists. If it does, it calls the traverse function with the root node as the input, appends the values to the values list in inorder traversal order, and returns the values list. If the root node does not exist, the method returns None."
   ]
  },
  {
   "cell_type": "code",
   "execution_count": null,
   "id": "b90f39a1",
   "metadata": {},
   "outputs": [],
   "source": []
  }
 ],
 "metadata": {
  "kernelspec": {
   "display_name": "Python 3 (ipykernel)",
   "language": "python",
   "name": "python3"
  },
  "language_info": {
   "codemirror_mode": {
    "name": "ipython",
    "version": 3
   },
   "file_extension": ".py",
   "mimetype": "text/x-python",
   "name": "python",
   "nbconvert_exporter": "python",
   "pygments_lexer": "ipython3",
   "version": "3.10.9"
  }
 },
 "nbformat": 4,
 "nbformat_minor": 5
}
