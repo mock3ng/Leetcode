{
 "cells": [
  {
   "cell_type": "code",
   "execution_count": 1,
   "id": "bf8130a3",
   "metadata": {},
   "outputs": [],
   "source": [
    "class Solution:\n",
    "    def calPoints(self, operations: list[str]) -> int:\n",
    "        # Create an empty list to store the scores\n",
    "        myl = []\n",
    "        \n",
    "        # Iterate over each element of the input list\n",
    "        for i in operations:\n",
    "            # If the current element is \"C\", remove the last score from the list\n",
    "            if i == \"C\":\n",
    "                myl.pop()\n",
    "            # If the current element is \"D\", double the last score and add it to the list\n",
    "            elif i == \"D\":\n",
    "                myl.append(2 * myl[-1])\n",
    "            # If the current element is \"+\", add the sum of the last two scores to the list\n",
    "            elif i == \"+\":\n",
    "                myl.append(myl[-1] + myl[-2])\n",
    "            # Otherwise, the current element is a valid score, so add it to the list as an integer\n",
    "            else:\n",
    "                myl.append(int(i))\n",
    "        \n",
    "        # Calculate the sum of all the scores in the list and return it as an integer\n",
    "        return sum(myl)\n"
   ]
  },
  {
   "cell_type": "markdown",
   "id": "1080e096",
   "metadata": {},
   "source": [
    "This code defines a class called Solution with a single method called calPoints. The method takes a list of strings called operations as input and returns the total sum of scores obtained from these operations.\n",
    "\n",
    "To do this, the method first creates an empty list called myl to store the scores. It then iterates over each element of the input list using a for loop.\n",
    "\n",
    "For each element in the list, the method checks if it is equal to \"C\", \"D\", or \"+\". If the element is \"C\", the method removes the last score from the list using the pop method. If the element is \"D\", the method doubles the last score in the list and adds it to the list using the append method. If the element is \"+\", the method adds the sum of the last two scores in the list and adds it to the list using the append method. If the element is a valid score, the method converts it to an integer using the int function and adds it to the list using the append method.\n",
    "\n",
    "After all the elements in the list have been processed, the method calculates the sum of all the scores in the list using the sum function and returns it as an integer using the return statement."
   ]
  },
  {
   "cell_type": "code",
   "execution_count": 2,
   "id": "71adf794",
   "metadata": {},
   "outputs": [],
   "source": [
    "my_solution=Solution()"
   ]
  },
  {
   "cell_type": "code",
   "execution_count": 3,
   "id": "e22ac765",
   "metadata": {},
   "outputs": [],
   "source": [
    "ops = [\"5\",\"2\",\"C\",\"D\",\"+\"]"
   ]
  },
  {
   "cell_type": "code",
   "execution_count": 4,
   "id": "6756c9f8",
   "metadata": {},
   "outputs": [],
   "source": [
    "result=my_solution.calPoints(ops)"
   ]
  },
  {
   "cell_type": "code",
   "execution_count": 5,
   "id": "4d4fa52c",
   "metadata": {},
   "outputs": [
    {
     "name": "stdout",
     "output_type": "stream",
     "text": [
      "30\n"
     ]
    }
   ],
   "source": [
    "print(result)"
   ]
  },
  {
   "cell_type": "code",
   "execution_count": null,
   "id": "61bdf079",
   "metadata": {},
   "outputs": [],
   "source": []
  }
 ],
 "metadata": {
  "kernelspec": {
   "display_name": "Python 3 (ipykernel)",
   "language": "python",
   "name": "python3"
  },
  "language_info": {
   "codemirror_mode": {
    "name": "ipython",
    "version": 3
   },
   "file_extension": ".py",
   "mimetype": "text/x-python",
   "name": "python",
   "nbconvert_exporter": "python",
   "pygments_lexer": "ipython3",
   "version": "3.10.9"
  }
 },
 "nbformat": 4,
 "nbformat_minor": 5
}
