{
 "cells": [
  {
   "cell_type": "code",
   "execution_count": 1,
   "id": "bf8130a3",
   "metadata": {},
   "outputs": [],
   "source": [
    "class Solution:\n",
    "    def calPoints(self, operations: list[str]) -> int:\n",
    "        myl=[]\n",
    "        for i in operations:\n",
    "            if i==\"C\":\n",
    "                myl.pop()\n",
    "            elif i==\"D\":\n",
    "                myl.append(2*myl[-1])\n",
    "            elif i==\"+\":\n",
    "                myl.append(myl[-1]+myl[-2])\n",
    "            else:\n",
    "                myl.append(int(i))\n",
    "        return sum(myl)"
   ]
  },
  {
   "cell_type": "code",
   "execution_count": 2,
   "id": "71adf794",
   "metadata": {},
   "outputs": [],
   "source": [
    "my_solution=Solution()"
   ]
  },
  {
   "cell_type": "code",
   "execution_count": 3,
   "id": "e22ac765",
   "metadata": {},
   "outputs": [],
   "source": [
    "ops = [\"5\",\"2\",\"C\",\"D\",\"+\"]"
   ]
  },
  {
   "cell_type": "code",
   "execution_count": 4,
   "id": "6756c9f8",
   "metadata": {},
   "outputs": [],
   "source": [
    "result=my_solution.calPoints(ops)"
   ]
  },
  {
   "cell_type": "code",
   "execution_count": 5,
   "id": "4d4fa52c",
   "metadata": {},
   "outputs": [
    {
     "name": "stdout",
     "output_type": "stream",
     "text": [
      "30\n"
     ]
    }
   ],
   "source": [
    "print(result)"
   ]
  },
  {
   "cell_type": "code",
   "execution_count": null,
   "id": "61bdf079",
   "metadata": {},
   "outputs": [],
   "source": []
  }
 ],
 "metadata": {
  "kernelspec": {
   "display_name": "Python 3 (ipykernel)",
   "language": "python",
   "name": "python3"
  },
  "language_info": {
   "codemirror_mode": {
    "name": "ipython",
    "version": 3
   },
   "file_extension": ".py",
   "mimetype": "text/x-python",
   "name": "python",
   "nbconvert_exporter": "python",
   "pygments_lexer": "ipython3",
   "version": "3.10.9"
  }
 },
 "nbformat": 4,
 "nbformat_minor": 5
}
