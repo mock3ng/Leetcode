{
 "cells": [
  {
   "cell_type": "code",
   "execution_count": 1,
   "id": "63b10165",
   "metadata": {},
   "outputs": [],
   "source": [
    "class Solution:\n",
    "    def maxProfit(self, prices: list[int]) -> int:\n",
    "        # Create an empty dictionary to store the minimum price and the corresponding index\n",
    "        my_hash = {}\n",
    "        \n",
    "        # Initialize the maximum profit to be zero\n",
    "        maks = 0\n",
    "        \n",
    "        # Iterate over each element and index of the prices list\n",
    "        for ix, num in enumerate(prices):\n",
    "            # Iterate over each element and index of the prices list starting from the current index\n",
    "            for ix1, num1 in enumerate(prices[ix:], ix):\n",
    "                # If the current price is less than the minimum price, update the minimum price and its index in the dictionary\n",
    "                if num1 < num:\n",
    "                    num = num1\n",
    "                    my_hash[num] = ix1\n",
    "                    continue\n",
    "                # Otherwise, calculate the profit by subtracting the minimum price from the current price\n",
    "                profit = num1 - num\n",
    "                # If the profit is greater than the current maximum profit and the index of the current price is greater than the index of the minimum price, update the maximum profit\n",
    "                if profit > maks and ix1 > my_hash[num]:\n",
    "                    maks = profit\n",
    "        \n",
    "        # Return the maximum profit\n",
    "        return maks\n"
   ]
  },
  {
   "cell_type": "markdown",
   "id": "bead6ebf",
   "metadata": {},
   "source": [
    "This code defines a class called Solution with a single method called maxProfit. The method takes a list of integers called prices as input and returns the maximum profit that can be obtained by buying and selling a single stock.\n",
    "\n",
    "To do this, the method first creates an empty dictionary called my_hash to store the minimum price and its corresponding index. It also initializes the maximum profit to be zero.\n",
    "\n",
    "The method then iterates over each element and index of the prices list using a nested for loop. For each element and index, it checks if the current price is less than the minimum price stored in the dictionary. If it is, it updates the minimum price and its index in the dictionary.\n",
    "\n",
    "If the current price is greater than or equal to the minimum price, the method calculates the profit by subtracting the minimum price from the current price. If the profit is greater than the current maximum profit and the index of the current price is greater than the index of the minimum price, the method updates the maximum profit.\n",
    "\n",
    "After all the elements and indices of the prices list have been processed, the method returns the maximum profit as an integer using the return statement."
   ]
  },
  {
   "cell_type": "code",
   "execution_count": 2,
   "id": "368ae616",
   "metadata": {},
   "outputs": [],
   "source": [
    "prices = [7,1,5,3,6,4]\n",
    "Output: 5"
   ]
  },
  {
   "cell_type": "code",
   "execution_count": 3,
   "id": "5e0dd6c1",
   "metadata": {},
   "outputs": [],
   "source": [
    "my_solution=Solution()"
   ]
  },
  {
   "cell_type": "code",
   "execution_count": 4,
   "id": "5c0c2d31",
   "metadata": {},
   "outputs": [
    {
     "data": {
      "text/plain": [
       "5"
      ]
     },
     "execution_count": 4,
     "metadata": {},
     "output_type": "execute_result"
    }
   ],
   "source": [
    "my_solution.maxProfit(prices)"
   ]
  },
  {
   "cell_type": "code",
   "execution_count": null,
   "id": "d2833c10",
   "metadata": {},
   "outputs": [],
   "source": []
  }
 ],
 "metadata": {
  "kernelspec": {
   "display_name": "Python 3 (ipykernel)",
   "language": "python",
   "name": "python3"
  },
  "language_info": {
   "codemirror_mode": {
    "name": "ipython",
    "version": 3
   },
   "file_extension": ".py",
   "mimetype": "text/x-python",
   "name": "python",
   "nbconvert_exporter": "python",
   "pygments_lexer": "ipython3",
   "version": "3.10.9"
  }
 },
 "nbformat": 4,
 "nbformat_minor": 5
}
