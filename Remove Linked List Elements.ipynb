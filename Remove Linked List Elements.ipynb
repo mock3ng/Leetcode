{
 "cells": [
  {
   "cell_type": "code",
   "execution_count": null,
   "id": "07043955",
   "metadata": {},
   "outputs": [],
   "source": [
    "# Definition for singly-linked list.\n",
    "class ListNode:\n",
    "    def __init__(self, val=0, next=None):\n",
    "        self.val = val\n",
    "        self.next = next\n",
    "class Solution:\n",
    "    def removeElements(self, head: Optional[ListNode], val: int) -> Optional[ListNode]:\n",
    "        current=ListNode(head)\n",
    "        next_val=current.val\n",
    "        print(next_val)\n",
    "        \n",
    "        while head:\n",
    "            if next_val.next is None and next_val==val:\n",
    "                current.next=None\n",
    "                \n",
    "            if next_val==val:\n",
    "                current.next=current.next.next\n",
    "            else:\n",
    "                next_value=current\n",
    "                current=current.next.next\n",
    "        return head.val"
   ]
  },
  {
   "cell_type": "markdown",
   "id": "3f208f33",
   "metadata": {},
   "source": [
    "This code is an implementation of the \"Remove Linked List Elements\" problem in LeetCode. The problem requires us to remove all elements from a linked list that have a given value \"val\".\n",
    "\n",
    "The \"Solution\" class has a method called \"removeElements\" that takes the head of the linked list and the value to be removed as inputs.\n",
    "\n",
    "The method creates a new ListNode object with the head value as its value and sets the next value to None. Then, it initializes the \"current\" variable to this new ListNode object.\n",
    "\n",
    "The while loop is used to traverse the linked list. The loop continues until the \"head\" variable is not None. Within the loop, the code checks if the next value of the \"current\" variable is None and if the current value is equal to the given value \"val\". If both conditions are satisfied, the \"current\" variable's next value is set to None to remove the last node.\n",
    "\n",
    "If the current value of the \"current\" variable is equal to the given value \"val\", the \"current\" variable's next value is set to the next next value, thus removing the current node.\n",
    "\n",
    "If the current value of the \"current\" variable is not equal to the given value \"val\", then the \"next_value\" variable is set to the \"current\" variable, and the \"current\" variable is set to the \"current\" variable's next next value.\n",
    "\n",
    "Finally, the method returns the head value of the linked list. However, since the linked list is modified in place, the head node of the modified linked list will not be the same as the original head node, so returning \"head.val\" does not make sense."
   ]
  },
  {
   "cell_type": "code",
   "execution_count": 1,
   "id": "0704a8c7",
   "metadata": {},
   "outputs": [],
   "source": [
    "head = [1,2,6,3,4,5,6]\n",
    "val = 6"
   ]
  },
  {
   "cell_type": "code",
   "execution_count": null,
   "id": "2b8cc330",
   "metadata": {},
   "outputs": [],
   "source": [
    "my_solution=Solution()"
   ]
  },
  {
   "cell_type": "code",
   "execution_count": null,
   "id": "4d3c0d58",
   "metadata": {},
   "outputs": [],
   "source": [
    "result=my_solution.removeElements(head,val)"
   ]
  },
  {
   "cell_type": "code",
   "execution_count": 105,
   "id": "194e946e",
   "metadata": {},
   "outputs": [
    {
     "name": "stdout",
     "output_type": "stream",
     "text": [
      "None\n"
     ]
    }
   ],
   "source": [
    "print(result)"
   ]
  },
  {
   "cell_type": "code",
   "execution_count": null,
   "id": "9a0fed68",
   "metadata": {},
   "outputs": [],
   "source": []
  }
 ],
 "metadata": {
  "kernelspec": {
   "display_name": "Python 3 (ipykernel)",
   "language": "python",
   "name": "python3"
  },
  "language_info": {
   "codemirror_mode": {
    "name": "ipython",
    "version": 3
   },
   "file_extension": ".py",
   "mimetype": "text/x-python",
   "name": "python",
   "nbconvert_exporter": "python",
   "pygments_lexer": "ipython3",
   "version": "3.10.9"
  }
 },
 "nbformat": 4,
 "nbformat_minor": 5
}
