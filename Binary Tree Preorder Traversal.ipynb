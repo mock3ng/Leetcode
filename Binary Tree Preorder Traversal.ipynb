{
 "cells": [
  {
   "cell_type": "code",
   "execution_count": null,
   "id": "a5ba053c",
   "metadata": {},
   "outputs": [],
   "source": [
    "# Definition for a binary tree node.\n",
    "# class TreeNode:\n",
    "#     def __init__(self, val=0, left=None, right=None):\n",
    "#         self.val = val\n",
    "#         self.left = left\n",
    "#         self.right = right\n",
    "\n",
    "class Solution:\n",
    "    def preorderTraversal(self, root: Optional[TreeNode]) -> List[int]:\n",
    "        # create an empty list to store values\n",
    "        values=[]\n",
    "        \n",
    "        # define a helper function to traverse the tree in a pre-order fashion\n",
    "        def traverse(currnode):\n",
    "            # add the value of the current node to the list\n",
    "            values.append(currnode.val)\n",
    "            # if the current node has a left child, traverse the left subtree\n",
    "            if currnode.left:\n",
    "                traverse(currnode.left)\n",
    "            # if the current node has a right child, traverse the right subtree\n",
    "            if currnode.right:\n",
    "                traverse(currnode.right)\n",
    "        \n",
    "        # if the root is not None, traverse the tree starting from the root\n",
    "        if root:       \n",
    "            traverse(root)\n",
    "            # return the list of values\n",
    "            return values\n",
    "        else:\n",
    "            # if the root is None, return None\n",
    "            return root\n"
   ]
  },
  {
   "cell_type": "markdown",
   "id": "003450e7",
   "metadata": {},
   "source": [
    "The preorderTraversal function takes a root node of a binary tree as input and returns a list of integers representing the pre-order traversal of the tree.\n",
    "\n",
    "The function first initializes an empty list called values to store the values of the nodes in the tree in pre-order.\n",
    "\n",
    "The function then defines a helper function called traverse, which takes a node in the tree as input and adds the value of that node to the values list. If the current node has a left child, the traverse function is called recursively with the left child as input. If the current node has a right child, the traverse function is called recursively with the right child as input.\n",
    "\n",
    "The preorderTraversal function then checks if the root node is not None. If the root is not None, the traverse function is called with the root node as input. Finally, the function returns the values list.\n",
    "\n",
    "If the root is None, the function returns None."
   ]
  },
  {
   "cell_type": "code",
   "execution_count": null,
   "id": "c7d2e56c",
   "metadata": {},
   "outputs": [],
   "source": []
  }
 ],
 "metadata": {
  "kernelspec": {
   "display_name": "Python 3 (ipykernel)",
   "language": "python",
   "name": "python3"
  },
  "language_info": {
   "codemirror_mode": {
    "name": "ipython",
    "version": 3
   },
   "file_extension": ".py",
   "mimetype": "text/x-python",
   "name": "python",
   "nbconvert_exporter": "python",
   "pygments_lexer": "ipython3",
   "version": "3.10.9"
  }
 },
 "nbformat": 4,
 "nbformat_minor": 5
}
