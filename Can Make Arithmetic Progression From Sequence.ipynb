{
 "cells": [
  {
   "cell_type": "code",
   "execution_count": 1,
   "id": "2e141e38",
   "metadata": {},
   "outputs": [],
   "source": [
    "class Solution:\n",
    "    def canMakeArithmeticProgression(self, arr: list[int]) -> bool:\n",
    "        new_1=arr\n",
    "        new_1.sort()\n",
    "        for i in range(0,len(new_1)):\n",
    "            if i!=len(new_1)-1 and i!=0:\n",
    "                a=new_1[i]-new_1[i-1]\n",
    "                b=new_1[i+1]-new_1[i]\n",
    "                print(a,b)\n",
    "                if a!=b:\n",
    "                    return False\n",
    "        return True"
   ]
  },
  {
   "cell_type": "markdown",
   "id": "14f9d0ee",
   "metadata": {},
   "source": [
    "class Solution: : Defines a class called Solution.\n",
    "def canMakeArithmeticProgression(self, arr: list[int]) -> bool: : Defines a method called canMakeArithmeticProgression that takes a list of integers as input and returns a boolean value.\n",
    "new_1=arr : Creates a new list called new_1 and sets it equal to the input list arr.\n",
    "new_1.sort() : Sorts the list new_1 in ascending order.\n",
    "for i in range(0,len(new_1)): : Iterates through each element in the list new_1.\n",
    "if i!=len(new_1)-1 and i!=0: : Checks if the current element is not the last or the first element in the list.\n",
    "a=new_1[i]-new_1[i-1] : Computes the difference between the current element and the previous element in the list and assigns it to variable a.\n",
    "b=new_1[i+1]-new_1[i] : Computes the difference between the next element and the current element in the list and assigns it to variable b.\n",
    "if a!=b: : Checks if the difference between the current element and the previous element is not equal to the difference between the next element and the current element.\n",
    "return False : Returns False if the above condition is true, indicating that the list cannot form an arithmetic progression.\n",
    "return True : Returns True if the above condition is never met, indicating that the list can form an arithmetic progression."
   ]
  },
  {
   "cell_type": "code",
   "execution_count": 2,
   "id": "65d73491",
   "metadata": {},
   "outputs": [],
   "source": [
    "my_solution=Solution()"
   ]
  },
  {
   "cell_type": "code",
   "execution_count": 3,
   "id": "cb03239f",
   "metadata": {},
   "outputs": [],
   "source": [
    "arr = [3,5,1]"
   ]
  },
  {
   "cell_type": "code",
   "execution_count": 4,
   "id": "5b3a3d77",
   "metadata": {},
   "outputs": [
    {
     "name": "stdout",
     "output_type": "stream",
     "text": [
      "2 2\n"
     ]
    }
   ],
   "source": [
    "result=my_solution.canMakeArithmeticProgression(arr)"
   ]
  },
  {
   "cell_type": "code",
   "execution_count": 5,
   "id": "f59d3f20",
   "metadata": {},
   "outputs": [
    {
     "name": "stdout",
     "output_type": "stream",
     "text": [
      "True\n"
     ]
    }
   ],
   "source": [
    "print(result)"
   ]
  },
  {
   "cell_type": "code",
   "execution_count": null,
   "id": "9e77ae7c",
   "metadata": {},
   "outputs": [],
   "source": []
  }
 ],
 "metadata": {
  "kernelspec": {
   "display_name": "Python 3 (ipykernel)",
   "language": "python",
   "name": "python3"
  },
  "language_info": {
   "codemirror_mode": {
    "name": "ipython",
    "version": 3
   },
   "file_extension": ".py",
   "mimetype": "text/x-python",
   "name": "python",
   "nbconvert_exporter": "python",
   "pygments_lexer": "ipython3",
   "version": "3.10.9"
  }
 },
 "nbformat": 4,
 "nbformat_minor": 5
}
